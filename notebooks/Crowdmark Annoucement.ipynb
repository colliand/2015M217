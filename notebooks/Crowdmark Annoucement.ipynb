{
 "cells": [
  {
   "cell_type": "markdown",
   "metadata": {},
   "source": [
    "## Cloud Service Announcement\n",
    "\n",
    "I plan to use [Crowdmark](http://crowdmark.com) for Math 217 during Fall 2015.\n",
    "\n",
    "* Students are informed that one of the resources they will be using is located on cloud-based servers.  Advise students that they are asked to provide consent to the storage of their personal information (typically their name and email address, but the fields must be specified in the instructions) on the system.\n"
   ]
  },
  {
   "cell_type": "code",
   "execution_count": null,
   "metadata": {
    "collapsed": true
   },
   "outputs": [],
   "source": []
  }
 ],
 "metadata": {
  "kernelspec": {
   "display_name": "Python 3",
   "language": "python",
   "name": "python3"
  },
  "language_info": {
   "codemirror_mode": {
    "name": "ipython",
    "version": 3
   },
   "file_extension": ".py",
   "mimetype": "text/x-python",
   "name": "python",
   "nbconvert_exporter": "python",
   "pygments_lexer": "ipython3",
   "version": "3.4.3"
  }
 },
 "nbformat": 4,
 "nbformat_minor": 0
}
