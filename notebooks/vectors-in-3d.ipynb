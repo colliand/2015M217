{
 "cells": [
  {
   "cell_type": "markdown",
   "metadata": {},
   "source": [
    "\n",
    "* $\\mathbb{R}^3$\n",
    "\n",
    "* Distance formula\n",
    "\n",
    "* Sphere\n",
    "\n",
    "* Vectors ${\\bf{x}} = (x_1, x_2, x_3)$.\n",
    "\t* magnitude\n",
    "\t* direction\n",
    "\t* vector addition\n",
    "\t* ${\\bf{0}}$ vector\n",
    "\t* scalar multiplication\n",
    "\t* standard basis, unit vectors\n"
   ]
  },
  {
   "cell_type": "code",
   "execution_count": null,
   "metadata": {
    "collapsed": true
   },
   "outputs": [],
   "source": []
  }
 ],
 "metadata": {
  "kernelspec": {
   "display_name": "Python 3",
   "language": "python",
   "name": "python3"
  },
  "language_info": {
   "codemirror_mode": {
    "name": "ipython",
    "version": 3
   },
   "file_extension": ".py",
   "mimetype": "text/x-python",
   "name": "python",
   "nbconvert_exporter": "python",
   "pygments_lexer": "ipython3",
   "version": "3.4.3"
  }
 },
 "nbformat": 4,
 "nbformat_minor": 0
}
