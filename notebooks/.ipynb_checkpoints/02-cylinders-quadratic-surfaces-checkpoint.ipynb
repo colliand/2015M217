{
 "cells": [
  {
   "cell_type": "markdown",
   "metadata": {},
   "source": [
    "[2015M217](http://colliand.com/2015M217/)\n",
    "\n",
    "#Cylinders and Quadratic Surfaces\n",
    "\n",
    "*    J. Colliander\n",
    "*  Stewart Text: 12.6"
   ]
  },
  {
   "cell_type": "markdown",
   "metadata": {},
   "source": [
    "\n",
    "\n",
    "## Cylinders\n",
    "\n",
    "A surface consisting of lines that are all parallel to a given line and pass through a given curve in a plane.\n",
    "\n",
    "Example: $\\{ (x,y,z) \\in \\mathbb{R}^3: x^2 + y^2 = 1 \\}$\n",
    "\n",
    "Example: \n",
    "$\\{ (x,y,z) \\in \\mathbb{R}^3: z = x^2\\}$\n",
    "\n"
   ]
  },
  {
   "cell_type": "markdown",
   "metadata": {},
   "source": [
    "## Quadratic Surfaces\n",
    "\n",
    "\n",
    "$$z = a x^2 + 2b x y + c y^2$$\n",
    "\n",
    "$$a x^2 + b y^2 + c z^2 + d xy + e xz + f yz +  g x + h y + i z + j = 0 $$\n",
    "\n"
   ]
  },
  {
   "cell_type": "markdown",
   "metadata": {},
   "source": [
    "## Surfaces\n",
    "\n",
    "* Paraboloid\n",
    "* Parabola Cylinder\n",
    "* Sphere\n",
    "* Ellipsoid\n",
    "* Hyperboloids"
   ]
  },
  {
   "cell_type": "code",
   "execution_count": null,
   "metadata": {
    "collapsed": true
   },
   "outputs": [],
   "source": []
  }
 ],
 "metadata": {
  "kernelspec": {
   "display_name": "Python 3",
   "language": "python",
   "name": "python3"
  },
  "language_info": {
   "codemirror_mode": {
    "name": "ipython",
    "version": 3
   },
   "file_extension": ".py",
   "mimetype": "text/x-python",
   "name": "python",
   "nbconvert_exporter": "python",
   "pygments_lexer": "ipython3",
   "version": "3.4.3"
  }
 },
 "nbformat": 4,
 "nbformat_minor": 0
}
