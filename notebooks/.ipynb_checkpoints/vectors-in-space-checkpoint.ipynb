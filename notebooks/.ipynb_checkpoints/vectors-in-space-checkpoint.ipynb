{
 "cells": [
  {
   "cell_type": "markdown",
   "metadata": {
    "slideshow": {
     "slide_type": "slide"
    }
   },
   "source": [
    "[2015M217](http://colliand.com/2015M217/)\n",
    "\n",
    "#Vectors in Space\n",
    "\n",
    "*    J. Colliander\n",
    "*    Stewart Text, Chapter 12: **Vectors and the Geometry of Space**"
   ]
  },
  {
   "cell_type": "markdown",
   "metadata": {
    "slideshow": {
     "slide_type": "slide"
    }
   },
   "source": [
    "##Where are you? Where are you going?"
   ]
  },
  {
   "cell_type": "code",
   "execution_count": 7,
   "metadata": {
    "collapsed": false,
    "slideshow": {
     "slide_type": "fragment"
    }
   },
   "outputs": [
    {
     "data": {
      "text/html": [
       "\n",
       "        <iframe\n",
       "            width=\"400\"\n",
       "            height=\"300\"\n",
       "            src=\"https://www.youtube.com/embed/zBlAGGzup48\"\n",
       "            frameborder=\"0\"\n",
       "            allowfullscreen\n",
       "        ></iframe>\n",
       "        "
      ],
      "text/plain": [
       "<IPython.lib.display.YouTubeVideo at 0x1072a4518>"
      ]
     },
     "execution_count": 7,
     "metadata": {},
     "output_type": "execute_result"
    }
   ],
   "source": [
    "from IPython.display import YouTubeVideo\n",
    "YouTubeVideo(\"zBlAGGzup48\")"
   ]
  },
  {
   "cell_type": "markdown",
   "metadata": {
    "slideshow": {
     "slide_type": "slide"
    }
   },
   "source": [
    "\n",
    "* $\\mathbb{R}^3$\n",
    "    * Cartesian coordinate system, right hand rule, coordinate planes\n",
    "    * Distance formula\n",
    "    * Sphere, Cylinder\n",
    "    * Other coordinate systems\n",
    "\n"
   ]
  },
  {
   "cell_type": "markdown",
   "metadata": {
    "collapsed": true,
    "slideshow": {
     "slide_type": "slide"
    }
   },
   "source": [
    "\n",
    "* Vectors ${\\bf{x}} = (x^1, x^2, x^3)$.\n",
    "\t* magnitude and direction\n",
    "    * Vector Space\n",
    "        * vector addition\n",
    "        * ${\\bf{0}}$ vector\n",
    "        * multiplication by a scalar\n",
    "\t* standard basis, unit vectors $\\bf{i}, \\bf{j}, \\bf{k}$, \n",
    "    * $\\mathbb{R}^d$ has standard basis $\\{ e_j \\}_{j=1}^d$."
   ]
  },
  {
   "cell_type": "markdown",
   "metadata": {},
   "source": [
    "# Dot Product\n",
    "\n",
    "The *Dot Product* takes two vectors and returns a scalar: ${\\bf{a}}, {\\bf{b}} \\longmapsto {\\bf{a}}\\cdot {\\bf{b}}$.\n",
    "\n",
    "$${\\bf{a}}=\\langle a_1, a_2, a_3 \\rangle, {\\bf{b}}=\\langle b_1, b_2, b_3 \\rangle$$\n",
    "\n",
    "$${\\bf{a}} \\cdot {\\bf{b}} = a_1 b_1 + a_2 b_2 + a_3 b_3 $$\n",
    "\n",
    "## Properties\n",
    "\n",
    "* *Orthogonal* vectors\n",
    "* cosine property\n",
    "* *projections*\n",
    "\n"
   ]
  },
  {
   "cell_type": "markdown",
   "metadata": {},
   "source": [
    "#Cross Product\n",
    "\n",
    "The *Cross Product* takes two vectors and returns a vector: \n",
    "\n",
    "##Properties\n",
    "\n",
    "* Formula\n",
    "* Determinants\n",
    "* Parallelogram\n",
    "\n",
    "*Scalar Triple Product*\n",
    "\n",
    "* Parallelepiped"
   ]
  },
  {
   "cell_type": "code",
   "execution_count": null,
   "metadata": {
    "collapsed": true
   },
   "outputs": [],
   "source": []
  }
 ],
 "metadata": {
  "kernelspec": {
   "display_name": "Python 3",
   "language": "python",
   "name": "python3"
  },
  "language_info": {
   "codemirror_mode": {
    "name": "ipython",
    "version": 3
   },
   "file_extension": ".py",
   "mimetype": "text/x-python",
   "name": "python",
   "nbconvert_exporter": "python",
   "pygments_lexer": "ipython3",
   "version": "3.4.3"
  }
 },
 "nbformat": 4,
 "nbformat_minor": 0
}
