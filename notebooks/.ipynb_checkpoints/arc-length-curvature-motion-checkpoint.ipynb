{
 "cells": [
  {
   "cell_type": "markdown",
   "metadata": {},
   "source": [
    "[2015M217](http://colliand.com/2015M217/)\n",
    "\n",
    "#Arc Length, Curvature, Motion in Space\n",
    "\n",
    "*    J. Colliander\n",
    "*  Stewart Text: 13.3, 13.4"
   ]
  },
  {
   "cell_type": "markdown",
   "metadata": {},
   "source": [
    "\n",
    "## Arc Length\n",
    "\n",
    "\n",
    "\n",
    "What is the ```arc length``` of a space curve\n",
    "$$\\mathcal{C} = [ {\\bf{r}} (t) ~| ~t \\in I] \\subset {\\mathbb{R}}^3 $$\n",
    "where ${\\bf{r}}$ is the vector function ${\\bf{r}} = \\langle f(t), g(t), h(t) \\rangle$ ?\n",
    "\n",
    "Definition: ```arc length```\n",
    "\n",
    "Examples\n",
    "\n",
    "Parametrizations\n",
    "\n",
    "```arc length parametrization```\n",
    "\n",
    "## Curvature\n",
    "\n",
    "Definition: ```curvature```\n",
    "\n",
    "\n",
    "Intuition\n",
    "\n",
    "Examples\n",
    "\n",
    "\n",
    "## Motion in Space\n",
    "\n",
    "\n",
    "velocity\n",
    "\n",
    "acceleration\n",
    "\n",
    "(```Frenet Frame```)"
   ]
  },
  {
   "cell_type": "code",
   "execution_count": null,
   "metadata": {
    "collapsed": true
   },
   "outputs": [],
   "source": []
  }
 ],
 "metadata": {
  "kernelspec": {
   "display_name": "Python 3",
   "language": "python",
   "name": "python3"
  },
  "language_info": {
   "codemirror_mode": {
    "name": "ipython",
    "version": 3
   },
   "file_extension": ".py",
   "mimetype": "text/x-python",
   "name": "python",
   "nbconvert_exporter": "python",
   "pygments_lexer": "ipython3",
   "version": "3.4.3"
  }
 },
 "nbformat": 4,
 "nbformat_minor": 0
}
