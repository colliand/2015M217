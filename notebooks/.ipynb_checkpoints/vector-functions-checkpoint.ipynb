{
 "cells": [
  {
   "cell_type": "markdown",
   "metadata": {},
   "source": [
    "[2015M217](http://colliand.com/2015M217/)\n",
    "\n",
    "#Vector Functions\n",
    "\n",
    "*    J. Colliander\n",
    "*  Stewart Text: 13.1, 13.2"
   ]
  },
  {
   "cell_type": "markdown",
   "metadata": {},
   "source": [
    "\n",
    "### Vector Function\n",
    "\n",
    "\n",
    "$$ {\\bf{r}(t)} = \\langle f(t), g(t), h(t) \\rangle = f(t){\\bf{i}} + g(t) {\\bf{j}} + h(t) {\\bf{k}}$$\n",
    "\n",
    "$$ {\\bf{x}(t)} = \\langle x^1 (t), x^2(t), x^3(t), \\dots, x^n(t) \\rangle $$\n",
    "\n",
    "How do we do calculus on vector functions? We think it through and rebuild calculus for vector functions:\n",
    "\n",
    "* Limits and continuity\n",
    "* Derivatives \n",
    "* Integratls \n",
    "\n",
    "### Limits\n",
    "\n",
    "```limit of a vector function```\n",
    "\n",
    "$$\\lim_{t \\rightarrow a} {\\bf{r}}(t)$$\n",
    "\n",
    "### Continuity\n",
    "\n",
    "```continuity of a vector function```\n",
    "\n",
    "### Space curves\n",
    "\n",
    "$$\\mathcal{C} = [ {\\bf{r}} (t) ~| ~t \\in I] \\subset {\\mathbb{R}}^3 $$\n",
    "\n",
    "```parametric equations```\n",
    "\n",
    "**examples**\n",
    "\n",
    "\n",
    "![spiral](http://wwejubwfy.s3.amazonaws.com/FourthNotebook-2015-07-05-01-17-42.jpg)\n",
    "\n",
    "Parametric Equations:\n",
    "\n",
    "* $r (z) = z^2 + 1$\n",
    "* x = r * np.sin(theta )\n",
    "* y = r * np.cos(theta)\n",
    "\n",
    "## Derivatives of Vector Functions\n",
    "\n",
    "```tangent line``` to $\\mathcal{C}$ at ${\\bf{r}}(a)$.\n",
    "\n",
    "```unit tangent```\n",
    "\n",
    "## Integrals of Vector Functions"
   ]
  },
  {
   "cell_type": "code",
   "execution_count": null,
   "metadata": {
    "collapsed": true
   },
   "outputs": [],
   "source": []
  }
 ],
 "metadata": {
  "kernelspec": {
   "display_name": "Python 3",
   "language": "python",
   "name": "python3"
  },
  "language_info": {
   "codemirror_mode": {
    "name": "ipython",
    "version": 3
   },
   "file_extension": ".py",
   "mimetype": "text/x-python",
   "name": "python",
   "nbconvert_exporter": "python",
   "pygments_lexer": "ipython3",
   "version": "3.4.3"
  }
 },
 "nbformat": 4,
 "nbformat_minor": 0
}
