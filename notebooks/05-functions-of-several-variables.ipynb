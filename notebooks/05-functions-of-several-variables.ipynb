{
 "cells": [
  {
   "cell_type": "markdown",
   "metadata": {},
   "source": [
    "\n",
    "## Functions of Several Variables\n",
    "\n",
    "### Functions of Two Variables\n",
    "\n",
    "```functions of two variables```\n",
    "\n",
    "Examples\n",
    "\n",
    "Domain and Range\n",
    "\n",
    "Graph\n",
    "\n",
    "Level curves\n",
    "\n",
    "```level curves```\n",
    "\n",
    "\n",
    "### Functions of Several Variables\n",
    "\n",
    "```functions of several variables```\n",
    "\n",
    "Example\n",
    "\n",
    "Domain and Range\n",
    "\n",
    "Graph? Harder to visualize\n",
    "\n",
    "Level curves?\n"
   ]
  },
  {
   "cell_type": "code",
   "execution_count": null,
   "metadata": {
    "collapsed": true
   },
   "outputs": [],
   "source": []
  }
 ],
 "metadata": {
  "kernelspec": {
   "display_name": "Python 3",
   "language": "python",
   "name": "python3"
  },
  "language_info": {
   "codemirror_mode": {
    "name": "ipython",
    "version": 3
   },
   "file_extension": ".py",
   "mimetype": "text/x-python",
   "name": "python",
   "nbconvert_exporter": "python",
   "pygments_lexer": "ipython3",
   "version": "3.4.3"
  }
 },
 "nbformat": 4,
 "nbformat_minor": 0
}
