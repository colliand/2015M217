{
 "cells": [
  {
   "cell_type": "markdown",
   "metadata": {
    "slideshow": {
     "slide_type": "slide"
    }
   },
   "source": [
    "## Review for Midterm 2\n",
    "\n",
    "Midterm 2 will be written in class on Tuesday 2015-12-01.\n",
    "\n",
    "The test will cover material in Chapters 15 and 16 in the text by J. Stewart."
   ]
  },
  {
   "cell_type": "markdown",
   "metadata": {
    "slideshow": {
     "slide_type": "slide"
    }
   },
   "source": [
    "## Key Concepts from Chapter 15\n",
    "\n",
    "* Iterated Integrals\n",
    "    * Fubini's Theorem\n",
    "    * Boundary Defining Functions\n",
    "* Surface Area\n",
    "* Changes of Variables\n",
    "    * Jacobian\n",
    "    * Coordinate Systems"
   ]
  },
  {
   "cell_type": "markdown",
   "metadata": {
    "slideshow": {
     "slide_type": "slide"
    }
   },
   "source": [
    "## Key Concepts from Chapter 16\n",
    "\n",
    "* Vector Fields\n",
    "    * Conservative Vector Fields\n",
    "    * Potential Function\n",
    "    * Curl and Divergence\n",
    "* Line Integrals\n",
    "* Surfaces and Integrals\n",
    "    * Orientability\n",
    "    * for graphs $D \\ni (x,y) \\longmapsto \\{ z =  f(x,y) \\} \\subset \\mathbb{R}^3$\n",
    "    * for parametric surfaces $[0,1] \\times [0 \\ni (u,v) \\longmapsto S = \\{ x(u,v), y(u,v), z(u,v) \\} \\subset \\mathbb{R}^3$\n",
    "* Fundamental Theorems\n",
    "    * Fundamental Theorem of Calculus\n",
    "    * Fundamental Theorem for Line Integrals\n",
    "    * Green's Theorem\n",
    "    * Stokes' Theorem\n",
    "    * Divergence Theorem"
   ]
  },
  {
   "cell_type": "markdown",
   "metadata": {
    "slideshow": {
     "slide_type": "subslide"
    }
   },
   "source": [
    "### Fundamental Theorem of Calculus\n",
    "\n",
    "$$ \\int_a^b F'(x) dx = F(b) - F(a) $$\n",
    "\n",
    "### Fundamental Theorem of Line Integrals\n",
    "\n",
    "$$ \\int_{C} {{\\nabla}} f \\cdot d {\\textbf{r}} = f ({\\textbf{r}}({\\textbf{b}}) - f ({\\textbf{r}}({\\textbf{a}}))$$ \n",
    "\n",
    "### Green's Theorem\n",
    "\n",
    "$$ \\int_{D} \\left( \\frac{\\partial Q}{\\partial x} -\\frac{\\partial P}{\\partial y} \\right) dA = \\int_{C} P dx + Q dy $$ \n",
    "\n",
    "### Stokes' Theorem\n",
    "\n",
    "$$ \\int_{S} \\nabla \\times {\\textbf{F}} \\cdot d{\\textbf{S}} = \\int_{C} {\\textbf{F}} \\cdot d{\\textbf{r}} $$\n",
    "\n",
    "### Divergence Theorem \n",
    "\n",
    "$$\\int_V \\nabla \\cdot {\\textbf{F}} dV = \\int_S {\\textbf{F}} \\cdot d{\\textbf{S}}$$"
   ]
  },
  {
   "cell_type": "markdown",
   "metadata": {
    "slideshow": {
     "slide_type": "subslide"
    }
   },
   "source": [
    "## Reexpressions to emphasize domain / boundary relationship\n",
    "\n",
    "$$ \\int_a^b F'(x) dx = F(b) - F(a) $$\n",
    "\n",
    "### Fundamental Theorem of Line Integrals\n",
    "\n",
    "$$ \\int_{\\gamma} {{\\nabla}} f \\cdot d {\\textbf{r}} = \\int_{\\partial \\gamma} f $$ \n",
    "\n",
    "### Green's Theorem\n",
    "\n",
    "$$ \\int_{D} \\left( \\frac{\\partial Q}{\\partial x} -\\frac{\\partial P}{\\partial y} \\right) dA = \\int_{\\partial D} P dx + Q dy $$ \n",
    "\n",
    "### Stokes' Theorem\n",
    "\n",
    "$$ \\int_{S} \\nabla \\times {\\textbf{F}} \\cdot d{\\textbf{S}} = \\int_{\\partial S} {\\textbf{F}} \\cdot d{\\textbf{r}} $$\n",
    "\n",
    "### Divergence Theorem \n",
    "\n",
    "$$\\int_V \\nabla \\cdot {\\textbf{F}} dV = \\int_{\\partial V} {\\textbf{F}} \\cdot d{\\textbf{S}}$$"
   ]
  },
  {
   "cell_type": "markdown",
   "metadata": {
    "slideshow": {
     "slide_type": "subslide"
    }
   },
   "source": [
    "# Generalized Stokes' Theorem\n",
    "\n",
    "$$  \\int_{\\Omega} {\\mathrm{d}} \\omega= \\int_{\\partial \\Omega} \\omega  $$"
   ]
  },
  {
   "cell_type": "markdown",
   "metadata": {},
   "source": [
    "## Notes\n",
    "\n",
    "I like [Terry Tao](https://terrytao.wordpress.com/)'s short [note on differential forms and integration](http://www.math.ucla.edu/~tao/preprints/forms.pdf).\n",
    "\n",
    "A [textbook with differential forms treatment of vector calculus by Susan J. Colley](http://catalogue.pearsoned.ca/educator/product/Vector-Calculus/9780321780652.page).\n"
   ]
  }
 ],
 "metadata": {
  "celltoolbar": "Slideshow",
  "kernelspec": {
   "display_name": "Python 3",
   "language": "python",
   "name": "python3"
  },
  "language_info": {
   "codemirror_mode": {
    "name": "ipython",
    "version": 3
   },
   "file_extension": ".py",
   "mimetype": "text/x-python",
   "name": "python",
   "nbconvert_exporter": "python",
   "pygments_lexer": "ipython3",
   "version": "3.4.3"
  }
 },
 "nbformat": 4,
 "nbformat_minor": 0
}
